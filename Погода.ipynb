{
 "cells": [
  {
   "cell_type": "code",
   "execution_count": 2,
   "metadata": {},
   "outputs": [
    {
     "name": "stdout",
     "output_type": "stream",
     "text": [
      "Сейчас в городе Саранск 20 °C\n",
      "Ощущается как 20 °C\n"
     ]
    }
   ],
   "source": [
    "# подключаем библиотеку для работы с запросами\n",
    "import requests\n",
    "# указываем город\n",
    "city = 'Саранск'\n",
    "# формируем запрос\n",
    "url = 'https://api.openweathermap.org/data/2.5/weather?q='+city+'&units=metric&lang=ru&appid=79d1ca96933b0328e1c7e3e7a26cb347'\n",
    "# отправляем запрос на сервер и сразу получаем результат\n",
    "weather_data = requests.get(url).json()\n",
    "# получаем данные о температуре и о том, как она ощущается\n",
    "temperature = round(weather_data['main']['temp'])\n",
    "temperature_feels = round(weather_data['main']['feels_like'])\n",
    "# выводим значения на экран\n",
    "print('Сейчас в городе', city, str(temperature), '°C')\n",
    "print('Ощущается как', str(temperature_feels), '°C')"
   ]
  },
  {
   "attachments": {},
   "cell_type": "markdown",
   "metadata": {},
   "source": [
    "https://thecode.media/weather-2/"
   ]
  },
  {
   "cell_type": "code",
   "execution_count": null,
   "metadata": {},
   "outputs": [],
   "source": []
  }
 ],
 "metadata": {
  "kernelspec": {
   "display_name": "base",
   "language": "python",
   "name": "python3"
  },
  "language_info": {
   "codemirror_mode": {
    "name": "ipython",
    "version": 3
   },
   "file_extension": ".py",
   "mimetype": "text/x-python",
   "name": "python",
   "nbconvert_exporter": "python",
   "pygments_lexer": "ipython3",
   "version": "3.9.13"
  },
  "orig_nbformat": 4
 },
 "nbformat": 4,
 "nbformat_minor": 2
}
